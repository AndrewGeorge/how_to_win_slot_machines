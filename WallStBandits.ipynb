{
 "cells": [
  {
   "cell_type": "code",
   "execution_count": 13,
   "metadata": {
    "collapsed": false
   },
   "outputs": [
    {
     "name": "stderr",
     "output_type": "stream",
     "text": [
      "/home/mike/ve/ml/lib/python3.5/site-packages/matplotlib/font_manager.py:273: UserWarning: Matplotlib is building the font cache using fc-list. This may take a moment.\n",
      "  warnings.warn('Matplotlib is building the font cache using fc-list. This may take a moment.')\n",
      "/home/mike/ve/ml/lib/python3.5/site-packages/matplotlib/font_manager.py:273: UserWarning: Matplotlib is building the font cache using fc-list. This may take a moment.\n",
      "  warnings.warn('Matplotlib is building the font cache using fc-list. This may take a moment.')\n"
     ]
    }
   ],
   "source": [
    "%matplotlib inline"
   ]
  },
  {
   "cell_type": "code",
   "execution_count": 14,
   "metadata": {
    "collapsed": true,
    "deletable": true,
    "editable": true
   },
   "outputs": [],
   "source": [
    "from __future__ import division, print_function\n",
    "import tensorflow as tf\n",
    "import numpy as np\n",
    "import matplotlib.pyplot as plt"
   ]
  },
  {
   "cell_type": "code",
   "execution_count": 10,
   "metadata": {
    "collapsed": false,
    "deletable": true,
    "editable": true
   },
   "outputs": [],
   "source": [
    "#List out our bandits. Currently bandit 4 \n",
    "#(index 3) is set to most often provide a positive reward.\n",
    "\n",
    "class BanditBot:\n",
    "    def __init__(self, p=0.):\n",
    "        self.p = p\n",
    "        \n",
    "    def __call__(self, *args, **kwargs):\n",
    "        result = np.random.randn(1)\n",
    "        if result > self.p:\n",
    "            return 1 #return a positive reward.\n",
    "        else:\n",
    "            return -1 #return a negative reward.\n",
    "\n",
    "bandits = [0.2,0,-0.2,-5]\n",
    "num_bandits = len(bandits)\n",
    "def pullBandit(bandit):\n",
    "    #Get a random number.\n",
    "    result = np.random.randn(1)\n",
    "    if result > bandit:\n",
    "        #return a positive reward.\n",
    "        return 1\n",
    "    else:\n",
    "        #return a negative reward.\n",
    "        return -1"
   ]
  },
  {
   "cell_type": "code",
   "execution_count": 3,
   "metadata": {
    "collapsed": false,
    "deletable": true,
    "editable": true
   },
   "outputs": [],
   "source": [
    "#init our agent\n",
    "\n",
    "tf.reset_default_graph()\n",
    "\n",
    "#These two lines established the feed-forward part of the network. \n",
    "#This does the actual choosing.\n",
    "weights = tf.Variable(tf.ones([num_bandits]))\n",
    "chosen_action = tf.argmax(weights,0)\n",
    "\n",
    "#The next six lines establish the training proceedure. \n",
    "#We feed the reward and chosen action into the network\n",
    "#to compute the loss, and use it to update the network.\n",
    "reward_holder = tf.placeholder(shape=[1],dtype=tf.float32)\n",
    "action_holder = tf.placeholder(shape=[1],dtype=tf.int32)\n",
    "responsible_weight = tf.slice(weights,action_holder,[1])\n",
    "loss = -(tf.log(responsible_weight)*reward_holder)\n",
    "optimizer = tf.train.GradientDescentOptimizer(learning_rate=0.001)\n",
    "update = optimizer.minimize(loss)"
   ]
  },
  {
   "cell_type": "code",
   "execution_count": 11,
   "metadata": {
    "collapsed": true
   },
   "outputs": [],
   "source": [
    "bots = [BanditBot(p) for p in bandits]"
   ]
  },
  {
   "cell_type": "code",
   "execution_count": 12,
   "metadata": {
    "collapsed": false,
    "deletable": true,
    "editable": true
   },
   "outputs": [
    {
     "name": "stdout",
     "output_type": "stream",
     "text": [
      "WARNING:tensorflow:From <ipython-input-12-df78f2c3673a>:5 in <module>.: initialize_all_variables (from tensorflow.python.ops.variables) is deprecated and will be removed after 2017-03-02.\n",
      "Instructions for updating:\n",
      "Use `tf.global_variables_initializer` instead.\n",
      "Running reward for the 4 bandits [-1.  0.  0.  0.]\n",
      "Running reward for the 4 bandits [  0.  -2.  -1.  38.]\n",
      "Running reward for the 4 bandits [  0.  -2.   0.  87.]\n",
      "Running reward for the 4 bandits [   0.   -2.   -1.  134.]\n",
      "Running reward for the 4 bandits [   0.    0.    0.  181.]\n",
      "Running reward for the 4 bandits [  -2.    0.    0.  229.]\n",
      "Running reward for the 4 bandits [  -3.    0.    0.  278.]\n",
      "Running reward for the 4 bandits [  -4.    0.    1.  326.]\n",
      "Running reward for the 4 bandits [  -4.    0.    1.  376.]\n",
      "Running reward for the 4 bandits [  -3.    0.    2.  424.]\n",
      "Running reward for the 4 bandits [  -1.   -1.    4.  469.]\n",
      "Running reward for the 4 bandits [  -2.    1.    3.  513.]\n",
      "Running reward for the 4 bandits [  -1.    1.    5.  558.]\n",
      "Running reward for the 4 bandits [   0.    3.    4.  604.]\n",
      "Running reward for the 4 bandits [   1.    3.    4.  653.]\n",
      "Running reward for the 4 bandits [   1.    2.    4.  702.]\n",
      "Running reward for the 4 bandits [   0.    2.    6.  747.]\n",
      "Running reward for the 4 bandits [   0.    2.    6.  795.]\n",
      "Running reward for the 4 bandits [   0.    2.    5.  844.]\n",
      "Running reward for the 4 bandits [  -1.    2.    5.  891.]\n",
      "The agent thinks bandit 4 is the most promising....\n",
      "...and it was right!\n"
     ]
    }
   ],
   "source": [
    "total_episodes = 1000 #Set total number of episodes to train agent on.\n",
    "total_reward = np.zeros(num_bandits) #Set scoreboard for bandits to 0.\n",
    "e = 0.1 #Set the chance of taking a random action.\n",
    "\n",
    "init = tf.initialize_all_variables()\n",
    "\n",
    "# Launch the tensorflow graph\n",
    "with tf.Session() as sess:\n",
    "    sess.run(init)\n",
    "    i = 0\n",
    "    while i < total_episodes:\n",
    "        \n",
    "        #Choose either a random action or one from our network.\n",
    "        if np.random.rand(1) < e:\n",
    "            action = np.random.randint(num_bandits)\n",
    "        else:\n",
    "            action = sess.run(chosen_action)\n",
    "        \n",
    "#         reward = pullBandit(bandits[action]) #Get our reward from picking one of the bandits.\n",
    "        reward = bots[action]() #Get our reward from picking one of the bandits.\n",
    "\n",
    "        \n",
    "        #Update the network.\n",
    "        _,resp,ww = sess.run([update,responsible_weight,weights], feed_dict={reward_holder:[reward],action_holder:[action]})\n",
    "        \n",
    "        #Update our running tally of scores.\n",
    "        total_reward[action] += reward\n",
    "        if i % 50 == 0:\n",
    "            print(\"Running reward for the {} bandits {}\".format(str(num_bandits), str(total_reward)))\n",
    "        i+=1\n",
    "print(\"The agent thinks bandit {} is the most promising....\".format(str(np.argmax(ww)+1)))\n",
    "if np.argmax(ww) == np.argmax(-np.array(bandits)):\n",
    "    print(\"...and it was right!\")\n",
    "else:\n",
    "    print(\"...and it was wrong!\")"
   ]
  },
  {
   "cell_type": "code",
   "execution_count": null,
   "metadata": {
    "collapsed": true,
    "deletable": true,
    "editable": true
   },
   "outputs": [],
   "source": []
  }
 ],
 "metadata": {
  "kernelspec": {
   "display_name": "Python 3",
   "language": "python",
   "name": "python3"
  },
  "language_info": {
   "codemirror_mode": {
    "name": "ipython",
    "version": 3
   },
   "file_extension": ".py",
   "mimetype": "text/x-python",
   "name": "python",
   "nbconvert_exporter": "python",
   "pygments_lexer": "ipython3",
   "version": "3.5.2"
  }
 },
 "nbformat": 4,
 "nbformat_minor": 0
}
