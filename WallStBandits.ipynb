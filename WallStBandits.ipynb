{
 "cells": [
  {
   "cell_type": "code",
   "execution_count": 1,
   "metadata": {
    "collapsed": false,
    "deletable": true,
    "editable": true
   },
   "outputs": [],
   "source": [
    "%matplotlib inline"
   ]
  },
  {
   "cell_type": "code",
   "execution_count": 2,
   "metadata": {
    "collapsed": true,
    "deletable": true,
    "editable": true
   },
   "outputs": [],
   "source": [
    "from __future__ import division, print_function\n",
    "import tensorflow as tf\n",
    "import numpy as np, pandas as pd\n",
    "import matplotlib.pyplot as plt\n",
    "from tqdm import tqdm\n",
    "\n",
    "import preprocess"
   ]
  },
  {
   "cell_type": "code",
   "execution_count": 3,
   "metadata": {
    "collapsed": false,
    "deletable": true,
    "editable": true
   },
   "outputs": [],
   "source": [
    "#List out our bandits. Currently bandit 4 \n",
    "#(index 3) is set to most often provide a positive reward.\n",
    "\n",
    "class BanditBot:\n",
    "    name = 'BaseBot'\n",
    "    def __init__(self, nt=50, p=1., q=0., r_buy=1., r_sell=1.):\n",
    "        self.p = p # our principle \n",
    "        self.q = q # amount of stock\n",
    "        self.p0 = p\n",
    "        self.q0 = q\n",
    "        self.r_buy = r_buy # the ratio of p to spend on purchase \n",
    "        self.r_sell = r_sell # the ratio of p to liquidate on sell\n",
    "        self.nt = nt # length of input vector\n",
    "        \n",
    "    def buy(self, x, t):\n",
    "        p_spent = self.p * self.r_buy\n",
    "        q_bought = p_spent / x[t]\n",
    "        self.q += q_bought\n",
    "        self.p -= p_spent\n",
    "        return (p_spent, q_bought)\n",
    "    \n",
    "    def sell(self, x, t):\n",
    "        q_sold = self.q * self.r_sell \n",
    "        p_earned = q_sold * x[t]\n",
    "        self.q -= q_sold\n",
    "        self.p += p_earned\n",
    "        return (p_earned, q_sold)\n",
    "    \n",
    "    def short(self, x, t):\n",
    "        raise NotImplementedError('not ready yet')\n",
    "        \n",
    "    def liquidate(self, x):\n",
    "        q_sold = self.q\n",
    "        p_earned = q_sold * x[-1]\n",
    "        self.q = 0\n",
    "        self.p += p_earned\n",
    "        return (p_earned, q_sold)\n",
    "    \n",
    "    def reset(self):\n",
    "        self.p = self.p0\n",
    "        self.q = self.q0\n",
    "        \n",
    "        \n",
    "    def __call__(self, x, *args, **kwargs):\n",
    "        result = np.random.randn(1)\n",
    "        if result > 0:\n",
    "            return 1 #return a positive reward.\n",
    "        else:\n",
    "            return -1 #return a negative reward.\n",
    "        \n",
    "class TheWimp(BanditBot):\n",
    "    name = 'TheWimp'\n",
    "    # Cowardly refuses to spend any money! Aka baseline\n",
    "    def __init__(self, nt=50, p=1., q=0., r_buy=1., r_sell=1.):\n",
    "        super().__init__(nt=nt, p=p, q=q, r_buy=r_buy, r_sell=r_sell)\n",
    "        \n",
    "    def __call__(self, x, *args, **kwargs):\n",
    "        return self.p\n",
    "    \n",
    "class BuyHold(BanditBot):\n",
    "    name = 'BuyAndHold'\n",
    "    # The classic approach - buy and hold a long position\n",
    "    def __init__(self, nt=50, p=1., q=0., r_buy=1., r_sell=1., roi=1.):\n",
    "        super().__init__(nt=nt, p=p, q=q, r_buy=r_buy, r_sell=r_sell)\n",
    "        self.roi = roi\n",
    "        \n",
    "    def __call__(self, x, *args, **kwargs):\n",
    "        return self.p*self.roi\n",
    "        \n",
    "class BuyIn(BanditBot):\n",
    "    name = 'BuyIn'\n",
    "    \n",
    "        \n",
    "    def __call__(self, x, *args, **kwargs):\n",
    "        self.buy(x, 0)\n",
    "        self.liquidate(x) # liquidate full position\n",
    "        return float(self.p)\n",
    "    \n",
    "class StratBuyIn(BanditBot):\n",
    "    name = 'StratBuyIn'\n",
    "    # The classic approach\n",
    "    def __init__(self, nt=50, p=1., q=0., r_buy=1., r_sell=1.):\n",
    "        super().__init__(nt=nt, p=p, q=q, r_buy=r_buy, r_sell=r_sell)\n",
    "        \n",
    "    def __call__(self, x, *args, **kwargs):\n",
    "        nt = len(x)\n",
    "        t1 = nt // 3 # assess period\n",
    "        if x[t1] > x[0]:\n",
    "            self.buy(x, t1+1)\n",
    "            \n",
    "        self.liquidate(x) # liquidate full position\n",
    "        return float(self.p)\n",
    "    \n",
    "\n",
    "class TheMonkey(BanditBot):\n",
    "    name = 'TheMonkey'\n",
    "    # A blindfolded monkey throwing darts at the newspaper's financial pages \n",
    "    def __init__(self, nt=50, p=1., q=0., r_buy=1., r_sell=1.):\n",
    "        super().__init__(nt=nt, p=p, q=q, r_buy=r_buy, r_sell=r_sell)\n",
    "        \n",
    "    def __call__(self, x, *args, **kwargs):\n",
    "        nt = len(x)\n",
    "        a = np.random.randint(0, nt)\n",
    "        b = np.random.randint(0, nt)\n",
    "        if a > b:\n",
    "            a,b = b,a\n",
    "        \n",
    "        self.buy(x, a)\n",
    "        self.sell(x, b) \n",
    "        self.liquidate(x)\n",
    "        return float(self.p)  \n",
    "\n",
    "\n",
    "        \n",
    "        \n",
    "bandit_probs = [0.2,0,-0.2,-5]\n",
    "\n",
    "# def pullBandit(bandit):\n",
    "#     #Get a random number.\n",
    "#     result = np.random.randn(1)\n",
    "#     if result > bandit:\n",
    "#         #return a positive reward.\n",
    "#         return 1\n",
    "#     else:\n",
    "#         #return a negative reward.\n",
    "#         return -1"
   ]
  },
  {
   "cell_type": "code",
   "execution_count": 6,
   "metadata": {
    "collapsed": false
   },
   "outputs": [],
   "source": [
    "total_episodes = 4000000 #Set total number of episodes to train agent on.\n",
    "mini_epoch_size = 100\n",
    "print_epoch_size = 10000\n"
   ]
  },
  {
   "cell_type": "code",
   "execution_count": 8,
   "metadata": {
    "collapsed": false
   },
   "outputs": [
    {
     "name": "stdout",
     "output_type": "stream",
     "text": [
      "(3664, 100, 1) (3664,) (407, 100, 1) (407,)\n"
     ]
    }
   ],
   "source": [
    "raw_data = pd.read_csv('data/sp500.csv', header=None)\n",
    "x_train, y_train, x_test, y_test = preprocess.load_data('data/sp500.csv', mini_epoch_size, False)\n",
    "print(x_train.shape, y_train.shape, x_test.shape, y_test.shape)"
   ]
  },
  {
   "cell_type": "code",
   "execution_count": 9,
   "metadata": {
    "collapsed": true
   },
   "outputs": [],
   "source": [
    "assert mini_epoch_size < 0.5*len(x_train), 'Mini epoch size too large'"
   ]
  },
  {
   "cell_type": "code",
   "execution_count": 10,
   "metadata": {
    "collapsed": false
   },
   "outputs": [
    {
     "data": {
      "text/plain": [
       "[<matplotlib.lines.Line2D at 0x7fbd77272a20>]"
      ]
     },
     "execution_count": 10,
     "metadata": {},
     "output_type": "execute_result"
    },
    {
     "data": {
      "image/png": "[encoded data removed]",
      "text/plain": [
       "<matplotlib.figure.Figure at 0x7fbd77bcc0f0>"
      ]
     },
     "metadata": {},
     "output_type": "display_data"
    }
   ],
   "source": [
    "plt.plot(raw_data[0])"
   ]
  },
  {
   "cell_type": "code",
   "execution_count": 11,
   "metadata": {
    "collapsed": false
   },
   "outputs": [
    {
     "name": "stdout",
     "output_type": "stream",
     "text": [
      "1.49176078618\n"
     ]
    }
   ],
   "source": [
    "stock_ary = raw_data[0].values\n",
    "buy_and_hold = stock_ary[-1] / stock_ary[0]\n",
    "print(buy_and_hold)"
   ]
  },
  {
   "cell_type": "code",
   "execution_count": null,
   "metadata": {
    "collapsed": true
   },
   "outputs": [],
   "source": []
  },
  {
   "cell_type": "code",
   "execution_count": 12,
   "metadata": {
    "collapsed": false
   },
   "outputs": [
    {
     "name": "stdout",
     "output_type": "stream",
     "text": [
      "1.01097565669\n"
     ]
    }
   ],
   "source": [
    "# Calc average return for basic buy and hold strategy over the long haul\n",
    "avg_return = buy_and_hold** (mini_epoch_size / len(x_train))\n",
    "print(avg_return)"
   ]
  },
  {
   "cell_type": "code",
   "execution_count": 13,
   "metadata": {
    "collapsed": false
   },
   "outputs": [],
   "source": [
    "\n",
    "bots = [TheWimp(),\n",
    "        BuyHold(roi=avg_return),\n",
    "        TheMonkey(),\n",
    "        BuyIn(),\n",
    "        StratBuyIn()]\n",
    "\n",
    "num_bandits = len(bots)"
   ]
  },
  {
   "cell_type": "code",
   "execution_count": 14,
   "metadata": {
    "collapsed": false
   },
   "outputs": [
    {
     "data": {
      "text/plain": [
       "36.64"
      ]
     },
     "execution_count": 14,
     "metadata": {},
     "output_type": "execute_result"
    }
   ],
   "source": [
    "len(x_train) / mini_epoch_size"
   ]
  },
  {
   "cell_type": "code",
   "execution_count": null,
   "metadata": {
    "collapsed": false
   },
   "outputs": [],
   "source": []
  },
  {
   "cell_type": "code",
   "execution_count": 15,
   "metadata": {
    "collapsed": false,
    "deletable": true,
    "editable": true
   },
   "outputs": [],
   "source": [
    "#init our agent\n",
    "\n",
    "tf.reset_default_graph()\n",
    "\n",
    "#These two lines established the feed-forward part of the network. \n",
    "#This does the actual choosing.\n",
    "weights = tf.Variable(tf.ones([num_bandits]))\n",
    "chosen_action = tf.argmax(weights,0)\n",
    "\n",
    "#The next six lines establish the training proceedure. \n",
    "#We feed the reward and chosen action into the network\n",
    "#to compute the loss, and use it to update the network.\n",
    "reward_holder = tf.placeholder(shape=[1],dtype=tf.float32)\n",
    "action_holder = tf.placeholder(shape=[1],dtype=tf.int32)\n",
    "responsible_weight = tf.slice(weights,action_holder,[1])\n",
    "loss = -(tf.log(responsible_weight)*reward_holder)\n",
    "optimizer = tf.train.GradientDescentOptimizer(learning_rate=0.001)\n",
    "update = optimizer.minimize(loss)"
   ]
  },
  {
   "cell_type": "code",
   "execution_count": null,
   "metadata": {
    "collapsed": false,
    "deletable": true,
    "editable": true
   },
   "outputs": [
    {
     "name": "stdout",
     "output_type": "stream",
     "text": [
      "Mini-epoch size: 100\n",
      "Num Mini-epochs: 40000\n",
      "WARNING:tensorflow:From <ipython-input-16-06fce18a1234>:8 in <module>.: initialize_all_variables (from tensorflow.python.ops.variables) is deprecated and will be removed after 2017-03-02.\n",
      "Instructions for updating:\n",
      "Use `tf.global_variables_initializer` instead.\n"
     ]
    },
    {
     "name": "stderr",
     "output_type": "stream",
     "text": [
      "  2%|▏         | 78292/4000000 [00:42<34:12, 1910.50it/s] "
     ]
    }
   ],
   "source": [
    "\n",
    "\n",
    "sample_ratio = total_episodes / mini_epoch_size\n",
    "print('Mini-epoch size: {}\\nNum Mini-epochs: {}'.format(mini_epoch_size, total_episodes // mini_epoch_size))\n",
    "total_reward = np.zeros(num_bandits) #Set scoreboard for bandits to 0.\n",
    "e = 0.2 #Set the chance of taking a random action.\n",
    "\n",
    "init = tf.initialize_all_variables()\n",
    "verbose_updates = False\n",
    "# Launch the tensorflow graph\n",
    "with tf.Session() as sess:\n",
    "    sess.run(init)\n",
    "    i = 0\n",
    "    for i in tqdm(range(total_episodes)):\n",
    "#         print('Ep {} of {}'.format(i, total_episodes))\n",
    "        \n",
    "        \n",
    "        tp = np.random.randint(0, len(x_train))\n",
    "        x = x_train[tp].ravel() # select time period\n",
    "        \n",
    "        #Choose either a random action or one from our network.\n",
    "        if np.random.rand(1) < e:\n",
    "            action = np.random.randint(num_bandits)\n",
    "        else:\n",
    "            action = sess.run(chosen_action)\n",
    "        \n",
    "#         reward = pullBandit(bandits[action]) #Get our reward from picking one of the bandits.\n",
    "        reward = bots[action](x) #Get our reward from picking one of the bandits.\n",
    "        \n",
    "\n",
    "        #Update the network.\n",
    "        _,resp,ww = sess.run([update,responsible_weight,weights], feed_dict={reward_holder:[reward],action_holder:[action]})\n",
    "        \n",
    "        #Update our running tally of scores.\n",
    "        total_reward[action] += reward\n",
    "        \n",
    "        if i % print_epoch_size == 0 and verbose_updates:\n",
    "            print('Results: ', ' '.join(['{:.3f}'.format(bot.p) for bot in bots]))\n",
    "            print(\"Running reward: {}\".format(str(total_reward)))\n",
    "        if i % mini_epoch_size == 0:\n",
    "            [bot.reset() for bot in bots]\n",
    "winner = np.argmax(ww)\n",
    "print(\"The agent thinks bandit {} is the most promising....\".format(bots[winner].name))\n"
   ]
  },
  {
   "cell_type": "code",
   "execution_count": null,
   "metadata": {
    "collapsed": true,
    "deletable": true,
    "editable": true
   },
   "outputs": [],
   "source": []
  }
 ],
 "metadata": {
  "kernelspec": {
   "display_name": "Python 3",
   "language": "python",
   "name": "python3"
  },
  "language_info": {
   "codemirror_mode": {
    "name": "ipython",
    "version": 3
   },
   "file_extension": ".py",
   "mimetype": "text/x-python",
   "name": "python",
   "nbconvert_exporter": "python",
   "pygments_lexer": "ipython3",
   "version": "3.5.2"
  }
 },
 "nbformat": 4,
 "nbformat_minor": 0
}
