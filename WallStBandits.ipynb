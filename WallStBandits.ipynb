{
 "cells": [
  {
   "cell_type": "code",
   "execution_count": 1,
   "metadata": {
    "collapsed": false,
    "deletable": true,
    "editable": true
   },
   "outputs": [],
   "source": [
    "%matplotlib inline"
   ]
  },
  {
   "cell_type": "code",
   "execution_count": 2,
   "metadata": {
    "collapsed": true,
    "deletable": true,
    "editable": true
   },
   "outputs": [],
   "source": [
    "from __future__ import division, print_function\n",
    "import tensorflow as tf\n",
    "import numpy as np, pandas as pd\n",
    "import matplotlib.pyplot as plt\n",
    "from tqdm import tqdm\n",
    "\n",
    "import preprocess"
   ]
  },
  {
   "cell_type": "code",
   "execution_count": 65,
   "metadata": {
    "collapsed": false,
    "deletable": true,
    "editable": true
   },
   "outputs": [],
   "source": [
    "#List out our bandits. Currently bandit 4 \n",
    "#(index 3) is set to most often provide a positive reward.\n",
    "\n",
    "class BanditBot:\n",
    "    name = 'BaseBot'\n",
    "    inflation_loss = 0.995\n",
    "    def __init__(self, roi=1., bankroll=1., nt=50, p=1., q=0., r_buy=1., r_sell=1.):\n",
    "        self.roi = roi\n",
    "        self.bankroll = bankroll # needed to determine how much we can short\n",
    "        self.p = p # our principle \n",
    "        self.q = q # amount of stock\n",
    "        self.p0 = p\n",
    "        self.q0 = q\n",
    "        self.r_buy = r_buy # the ratio of p to spend on purchase \n",
    "        self.r_sell = r_sell # the ratio of p to liquidate on sell\n",
    "        self.nt = nt # length of input vector\n",
    "        \n",
    "        self.p_margin = 0\n",
    "        self.q_margin = 0\n",
    "        \n",
    "    def buy(self, x, t):\n",
    "        p_spent = self.p * self.r_buy\n",
    "        q_bought = p_spent / x[t]\n",
    "        self.q += q_bought\n",
    "        self.p -= p_spent\n",
    "        return (p_spent, q_bought)\n",
    "    \n",
    "    def sell(self, x, t):\n",
    "        q_sold = self.q * self.r_sell \n",
    "        p_earned = q_sold * x[t]\n",
    "        self.q -= q_sold\n",
    "        self.p += p_earned\n",
    "        return (p_earned, q_sold)\n",
    "    \n",
    "    def short_position(self, x, t1, t2):\n",
    "        q_short = self.bankroll / x[t1] # decide the amount we want to short, since in theory can short infinite\n",
    "        self.q_margin += q_short\n",
    "        p_earned = q_short * x[t1]\n",
    "        self.p += p_earned\n",
    "        \n",
    "        q_return = self.q_margin\n",
    "        p_buyback = q_return * x[t2]\n",
    "        self.q_margin -= q_return\n",
    "        self.p -= p_buyback\n",
    "        return (p_earned-p_buyback, q_short)\n",
    "        \n",
    "        \n",
    "    def liquidate(self, x):\n",
    "        q_sold = self.q\n",
    "        p_earned = q_sold * x[-1]\n",
    "        self.q = 0\n",
    "        self.p += p_earned\n",
    "        return (p_earned, q_sold)\n",
    "    \n",
    "    def score(self, x):\n",
    "        '''Liquidate all shares at current market price and then compute how much money we made'''\n",
    "        self.liquidate(x)\n",
    "        return float((self.roi * self.inflation_loss * self.p) - self.p0)\n",
    "    \n",
    "    def reset(self):\n",
    "        self.p = self.p0\n",
    "        self.q = self.q0\n",
    "        \n",
    "        \n",
    "    def __call__(self, x, *args, **kwargs):\n",
    "        result = np.random.randn(1)\n",
    "        if result > 0:\n",
    "            return 1 #return a positive reward.\n",
    "        else:\n",
    "            return -1 #return a negative reward.\n",
    "        \n",
    "class TheWimp(BanditBot):\n",
    "    name = 'TheWimp'\n",
    "    # Cowardly refuses to spend any money! Aka baseline\n",
    "    def __init__(self, nt=50, p=1., q=0., r_buy=1., r_sell=1.):\n",
    "        super().__init__(nt=nt, p=p, q=q, r_buy=r_buy, r_sell=r_sell)\n",
    "        \n",
    "    def __call__(self, x, *args, **kwargs):\n",
    "        return self.score(x)\n",
    "    \n",
    "class BuyHold(BanditBot):\n",
    "    name = 'BuyAndHold'\n",
    "    # The classic approach - buy and hold a long position\n",
    "    def __init__(self, nt=50, p=1., q=0., r_buy=1., r_sell=1., roi=1.):\n",
    "        super().__init__(nt=nt, p=p, q=q, r_buy=r_buy, r_sell=r_sell)\n",
    "        self.roi = roi\n",
    "        \n",
    "    def __call__(self, x, *args, **kwargs):\n",
    "        return self.score(x)\n",
    "        \n",
    "class TheBull(BanditBot):\n",
    "    name = 'TheBull' \n",
    "        \n",
    "    def __call__(self, x, *args, **kwargs):\n",
    "        self.buy(x, 0)\n",
    "        return self.score(x)# liquidate full position\n",
    "    \n",
    "class TheBear(BanditBot):\n",
    "    name = 'TheBear' \n",
    "        \n",
    "    def __call__(self, x, *args, **kwargs):\n",
    "        self.short_position(x, 0, -1)\n",
    "        return self.score(x)# liquidate full position\n",
    "    \n",
    "    \n",
    "    \n",
    "class StratBull(BanditBot):\n",
    "    name = 'StratBull'\n",
    "    # Check the overall progress up to the first (fraction) of the epoch. If bullish, buy in\n",
    "    def __init__(self, nt=50, p=1., q=0., r_buy=1., r_sell=1.):\n",
    "        super().__init__(nt=nt, p=p, q=q, r_buy=r_buy, r_sell=r_sell)\n",
    "        \n",
    "    def __call__(self, x, *args, **kwargs):\n",
    "        nt = len(x)\n",
    "        t1 = nt // 3 # assess period\n",
    "        if x[t1] > x[0]:\n",
    "            self.buy(x, t1+1)\n",
    "            \n",
    "        return self.score(x) # liquidate full position\n",
    "    \n",
    "class StratBear(BanditBot):\n",
    "    name = 'StratBear'\n",
    "    # Check the overall progress up to the first (fraction) of the epoch. If bearish, short sell\n",
    "    def __init__(self, nt=50, p=1., q=0., r_buy=1., r_sell=1.):\n",
    "        super().__init__(nt=nt, p=p, q=q, r_buy=r_buy, r_sell=r_sell)\n",
    "        \n",
    "    def __call__(self, x, *args, **kwargs):\n",
    "        nt = len(x)\n",
    "        t1 = nt // 3 # assess period\n",
    "        if x[t1] < x[0]:\n",
    "            self.short_position(x, t1+1, -1)\n",
    "            \n",
    "        return self.score(x) # liquidate full position\n",
    "    \n",
    "class StratTwin(BanditBot):\n",
    "    name = 'StratTwin'\n",
    "    # Check the overall progress up to the first (fraction) of the epoch. If bull, go long, If bearish, short sell\n",
    "    def __init__(self, nt=50, p=1., q=0., r_buy=1., r_sell=1.):\n",
    "        super().__init__(nt=nt, p=p, q=q, r_buy=r_buy, r_sell=r_sell)\n",
    "        \n",
    "    def __call__(self, x, *args, **kwargs):\n",
    "        nt = len(x)\n",
    "        t1 = nt // 3 # assess period\n",
    "        if x[t1] < x[0]:\n",
    "            self.short_position(x, t1+1, -1)\n",
    "        else:\n",
    "            self.buy(x, t1+1)\n",
    "            \n",
    "        return self.score(x) # liquidate full position\n",
    "    \n",
    "\n",
    "class TheMonkey(BanditBot):\n",
    "    name = 'TheMonkey'\n",
    "    # A blindfolded monkey throwing darts at the newspaper's financial pages \n",
    "    def __init__(self, nt=50, p=1., q=0., r_buy=1., r_sell=1.):\n",
    "        super().__init__(nt=nt, p=p, q=q, r_buy=r_buy, r_sell=r_sell)\n",
    "        \n",
    "    def __call__(self, x, *args, **kwargs):\n",
    "        nt = len(x)\n",
    "        a = np.random.randint(0, nt)\n",
    "        b = np.random.randint(0, nt)\n",
    "        if a > b:\n",
    "            a,b = b,a\n",
    "        \n",
    "        self.buy(x, a)\n",
    "        self.sell(x, b)    \n",
    "        return self.score(x)\n",
    "\n",
    "\n",
    "        \n",
    "        \n",
    "bandit_probs = [0.2,0,-0.2,-5]\n",
    "\n",
    "# def pullBandit(bandit):\n",
    "#     #Get a random number.\n",
    "#     result = np.random.randn(1)\n",
    "#     if result > bandit:\n",
    "#         #return a positive reward.\n",
    "#         return 1\n",
    "#     else:\n",
    "#         #return a negative reward.\n",
    "#         return -1"
   ]
  },
  {
   "cell_type": "code",
   "execution_count": 68,
   "metadata": {
    "collapsed": false
   },
   "outputs": [
    {
     "name": "stdout",
     "output_type": "stream",
     "text": [
      "0.06484872840528144\n"
     ]
    },
    {
     "data": {
      "text/plain": [
       "[<matplotlib.lines.Line2D at 0x7fbd70517f28>]"
      ]
     },
     "execution_count": 68,
     "metadata": {},
     "output_type": "execute_result"
    },
    {
     "data": {
      "image/png": "[encoded data removed]",
      "text/plain": [
       "<matplotlib.figure.Figure at 0x7fbd70550780>"
      ]
     },
     "metadata": {},
     "output_type": "display_data"
    }
   ],
   "source": [
    "b = StratTwin()\n",
    "y =x[::1]\n",
    "print(b(y))\n",
    "\n",
    "plt.plot(y)"
   ]
  },
  {
   "cell_type": "code",
   "execution_count": 61,
   "metadata": {
    "collapsed": false
   },
   "outputs": [],
   "source": [
    "total_episodes = 1000000 #Set total number of episodes to train agent on.\n",
    "mini_epoch_size = 100\n",
    "print_epoch_size = 10000\n"
   ]
  },
  {
   "cell_type": "code",
   "execution_count": 62,
   "metadata": {
    "collapsed": false
   },
   "outputs": [
    {
     "name": "stdout",
     "output_type": "stream",
     "text": [
      "(3664, 100, 1) (3664,) (407, 100, 1) (407,)\n"
     ]
    }
   ],
   "source": [
    "raw_data = pd.read_csv('data/sp500.csv', header=None)\n",
    "x_train, y_train, x_test, y_test = preprocess.load_data('data/sp500.csv', mini_epoch_size, False)\n",
    "print(x_train.shape, y_train.shape, x_test.shape, y_test.shape)"
   ]
  },
  {
   "cell_type": "code",
   "execution_count": 63,
   "metadata": {
    "collapsed": true
   },
   "outputs": [],
   "source": [
    "assert mini_epoch_size < 0.5*len(x_train), 'Mini epoch size too large'"
   ]
  },
  {
   "cell_type": "code",
   "execution_count": 64,
   "metadata": {
    "collapsed": false
   },
   "outputs": [
    {
     "data": {
      "text/plain": [
       "[<matplotlib.lines.Line2D at 0x7fbd705dc160>]"
      ]
     },
     "execution_count": 64,
     "metadata": {},
     "output_type": "execute_result"
    },
    {
     "data": {
      "image/png": "[encoded data removed]",
      "text/plain": [
       "<matplotlib.figure.Figure at 0x7fbd7078ec50>"
      ]
     },
     "metadata": {},
     "output_type": "display_data"
    }
   ],
   "source": [
    "plt.plot(raw_data[0])"
   ]
  },
  {
   "cell_type": "code",
   "execution_count": 35,
   "metadata": {
    "collapsed": false
   },
   "outputs": [
    {
     "name": "stdout",
     "output_type": "stream",
     "text": [
      "1.49176078618\n"
     ]
    }
   ],
   "source": [
    "stock_ary = raw_data[0].values\n",
    "buy_and_hold = stock_ary[-1] / stock_ary[0]\n",
    "print(buy_and_hold)"
   ]
  },
  {
   "cell_type": "code",
   "execution_count": null,
   "metadata": {
    "collapsed": true
   },
   "outputs": [],
   "source": []
  },
  {
   "cell_type": "code",
   "execution_count": 36,
   "metadata": {
    "collapsed": false
   },
   "outputs": [
    {
     "name": "stdout",
     "output_type": "stream",
     "text": [
      "1.01097565669\n"
     ]
    }
   ],
   "source": [
    "# Calc average return for basic buy and hold strategy over the long haul\n",
    "avg_return = buy_and_hold** (mini_epoch_size / len(x_train))\n",
    "print(avg_return)"
   ]
  },
  {
   "cell_type": "code",
   "execution_count": 70,
   "metadata": {
    "collapsed": false
   },
   "outputs": [],
   "source": [
    "\n",
    "bots = [TheWimp(),\n",
    "        BuyHold(roi=avg_return),\n",
    "        TheMonkey(),\n",
    "        TheBull(),\n",
    "        TheBear(),\n",
    "        StratBull(),\n",
    "        StratBear()]\n",
    "\n",
    "num_bandits = len(bots)"
   ]
  },
  {
   "cell_type": "code",
   "execution_count": 38,
   "metadata": {
    "collapsed": false
   },
   "outputs": [
    {
     "data": {
      "text/plain": [
       "36.64"
      ]
     },
     "execution_count": 38,
     "metadata": {},
     "output_type": "execute_result"
    }
   ],
   "source": [
    "len(x_train) / mini_epoch_size"
   ]
  },
  {
   "cell_type": "code",
   "execution_count": null,
   "metadata": {
    "collapsed": false
   },
   "outputs": [],
   "source": []
  },
  {
   "cell_type": "code",
   "execution_count": 39,
   "metadata": {
    "collapsed": false,
    "deletable": true,
    "editable": true
   },
   "outputs": [],
   "source": [
    "#init our agent\n",
    "\n",
    "tf.reset_default_graph()\n",
    "\n",
    "#These two lines established the feed-forward part of the network. \n",
    "#This does the actual choosing.\n",
    "weights = tf.Variable(tf.ones([num_bandits]))\n",
    "chosen_action = tf.argmax(weights,0)\n",
    "\n",
    "#The next six lines establish the training proceedure. \n",
    "#We feed the reward and chosen action into the network\n",
    "#to compute the loss, and use it to update the network.\n",
    "reward_holder = tf.placeholder(shape=[1],dtype=tf.float32)\n",
    "action_holder = tf.placeholder(shape=[1],dtype=tf.int32)\n",
    "responsible_weight = tf.slice(weights,action_holder,[1])\n",
    "loss = -(tf.log(responsible_weight)*reward_holder)\n",
    "optimizer = tf.train.GradientDescentOptimizer(learning_rate=0.001)\n",
    "update = optimizer.minimize(loss)"
   ]
  },
  {
   "cell_type": "code",
   "execution_count": 40,
   "metadata": {
    "collapsed": false,
    "deletable": true,
    "editable": true
   },
   "outputs": [
    {
     "name": "stdout",
     "output_type": "stream",
     "text": [
      "Mini-epoch size: 100\n",
      "Num Mini-epochs: 1000\n",
      "WARNING:tensorflow:From <ipython-input-40-06fce18a1234>:8 in <module>.: initialize_all_variables (from tensorflow.python.ops.variables) is deprecated and will be removed after 2017-03-02.\n",
      "Instructions for updating:\n",
      "Use `tf.global_variables_initializer` instead.\n"
     ]
    },
    {
     "name": "stderr",
     "output_type": "stream",
     "text": [
      "100%|██████████| 100000/100000 [00:53<00:00, 1863.71it/s]"
     ]
    },
    {
     "name": "stdout",
     "output_type": "stream",
     "text": [
      "The agent thinks bandit BuyIn is the most promising....\n"
     ]
    },
    {
     "name": "stderr",
     "output_type": "stream",
     "text": [
      "\n"
     ]
    }
   ],
   "source": [
    "\n",
    "\n",
    "sample_ratio = total_episodes / mini_epoch_size\n",
    "print('Mini-epoch size: {}\\nNum Mini-epochs: {}'.format(mini_epoch_size, total_episodes // mini_epoch_size))\n",
    "total_reward = np.zeros(num_bandits) #Set scoreboard for bandits to 0.\n",
    "e = 0.2 #Set the chance of taking a random action.\n",
    "\n",
    "init = tf.initialize_all_variables()\n",
    "verbose_updates = False\n",
    "# Launch the tensorflow graph\n",
    "with tf.Session() as sess:\n",
    "    sess.run(init)\n",
    "    for i in tqdm(range(total_episodes)):\n",
    "#         print('Ep {} of {}'.format(i, total_episodes))\n",
    "        \n",
    "        \n",
    "        tp = np.random.randint(0, len(x_train))\n",
    "        x = x_train[tp].ravel() # select time period\n",
    "        \n",
    "        #Choose either a random action or one from our network.\n",
    "        if np.random.rand(1) < e:\n",
    "            action = np.random.randint(num_bandits)\n",
    "        else:\n",
    "            action = sess.run(chosen_action)\n",
    "        \n",
    "#         reward = pullBandit(bandits[action]) #Get our reward from picking one of the bandits.\n",
    "        reward = bots[action](x) #Get our reward from picking one of the bandits.\n",
    "        \n",
    "\n",
    "        #Update the network.\n",
    "        _,resp,ww = sess.run([update,responsible_weight,weights], feed_dict={reward_holder:[reward],action_holder:[action]})\n",
    "        \n",
    "        #Update our running tally of scores.\n",
    "        total_reward[action] += reward\n",
    "        \n",
    "        if i % print_epoch_size == 0 and verbose_updates:\n",
    "            print('Results: ', ' '.join(['{:.3f}'.format(bot.p) for bot in bots]))\n",
    "            print(\"Running reward: {}\".format(str(total_reward)))\n",
    "        if i % mini_epoch_size == 0:\n",
    "            [bot.reset() for bot in bots]\n",
    "winner = np.argmax(ww)\n",
    "print(\"The agent thinks bandit {} is the most promising....\".format(bots[winner].name))\n"
   ]
  },
  {
   "cell_type": "code",
   "execution_count": 42,
   "metadata": {
    "collapsed": false,
    "deletable": true,
    "editable": true
   },
   "outputs": [
    {
     "name": "stdout",
     "output_type": "stream",
     "text": [
      "TheWimp -20.275\n",
      "BuyAndHold 25.1218627633\n",
      "TheMonkey 31.2386500125\n",
      "BuyIn 80188.9972325\n",
      "StratBuyIn 107.58569115\n"
     ]
    }
   ],
   "source": [
    "# print(\"Running reward: {}\".format(str(total_reward)))\n",
    "for i, bot in enumerate(bots):\n",
    "    print(bot.name, total_reward[i])\n"
   ]
  },
  {
   "cell_type": "code",
   "execution_count": null,
   "metadata": {
    "collapsed": false
   },
   "outputs": [
    {
     "name": "stdout",
     "output_type": "stream",
     "text": [
      "Mini-epoch size: 100\n",
      "Num Mini-epochs: 10000\n",
      "WARNING:tensorflow:From <ipython-input-72-b3d212497e67>:6 in <module>.: initialize_all_variables (from tensorflow.python.ops.variables) is deprecated and will be removed after 2017-03-02.\n",
      "Instructions for updating:\n",
      "Use `tf.global_variables_initializer` instead.\n"
     ]
    },
    {
     "name": "stderr",
     "output_type": "stream",
     "text": [
      " 10%|█         | 101597/1000000 [00:03<00:30, 29317.63it/s]"
     ]
    }
   ],
   "source": [
    "total_episodes = 1000000\n",
    "print('Mini-epoch size: {}\\nNum Mini-epochs: {}'.format(mini_epoch_size, total_episodes // mini_epoch_size))\n",
    "total_reward = np.zeros(num_bandits) #Set scoreboard for bandits to 0.\n",
    "e = 0.2 #Set the chance of taking a random action.\n",
    "\n",
    "init = tf.initialize_all_variables()\n",
    "verbose_updates = False\n",
    "# Launch the tensorflow graph\n",
    "with tf.Session() as sess:\n",
    "    sess.run(init)\n",
    "   \n",
    "    for i in tqdm(range(total_episodes)):\n",
    "        tp = np.random.randint(0, len(x_train))\n",
    "        x = x_train[tp].ravel() # select time period\n",
    "        for action in range(len(bots)):\n",
    "            reward = bots[action](x) #Get our reward from picking one of the bandits.\n",
    "\n",
    "            #Update our running tally of scores.\n",
    "            total_reward[action] += reward\n",
    "\n",
    "        if i % print_epoch_size == 0 and verbose_updates:\n",
    "            print('Results: ', ' '.join(['{:.3f}'.format(bot.p) for bot in bots]))\n",
    "            print(\"Running reward: {}\".format(str(total_reward)))\n",
    "        if i % mini_epoch_size == 0:\n",
    "            [bot.reset() for bot in bots]\n",
    "\n",
    "\n",
    "for i, bot in enumerate(bots):\n",
    "    print(bot.name, total_reward[i]/total_episodes)\n",
    "    \n",
    "winner = np.argmax(total_reward)\n",
    "print(\"The agent thinks {} is the most promising....\".format(bots[winner].name))"
   ]
  },
  {
   "cell_type": "code",
   "execution_count": null,
   "metadata": {
    "collapsed": true
   },
   "outputs": [],
   "source": []
  }
 ],
 "metadata": {
  "kernelspec": {
   "display_name": "Python 3",
   "language": "python",
   "name": "python3"
  },
  "language_info": {
   "codemirror_mode": {
    "name": "ipython",
    "version": 3
   },
   "file_extension": ".py",
   "mimetype": "text/x-python",
   "name": "python",
   "nbconvert_exporter": "python",
   "pygments_lexer": "ipython3",
   "version": "3.5.2"
  }
 },
 "nbformat": 4,
 "nbformat_minor": 0
}
